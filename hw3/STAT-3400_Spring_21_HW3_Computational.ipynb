{
 "cells": [
  {
   "cell_type": "markdown",
   "metadata": {},
   "source": [
    "# Computational Homework #3\n",
    "\n",
    "**Due by midnight on Wednesday February 10, 2021. Submit on Canvas**. Answer all of the following problems. These problems should be completed in this notebook (using the R kernel). Computational questions may require code, plots, analysis, interpretation, etc. Working in small groups is allowed, but it is important that you make an effort to master the material and hand in your own work. \n"
   ]
  },
  {
   "cell_type": "markdown",
   "metadata": {},
   "source": [
    "## Problem #1\n",
    "\n",
    "#### Load the ${\\tt wine}$ dataset into R. This dataset is available in the ${\\tt gamair}$ library. A description of the variables can be obtained [here](https://cran.r-project.org/web/packages/gamair/gamair.pdf)."
   ]
  },
  {
   "cell_type": "code",
   "execution_count": null,
   "metadata": {},
   "outputs": [],
   "source": [
    "library(gamair)\n",
    "\n",
    "data(wine)\n",
    "\n",
    "head(wine)\n",
    "\n",
    "length(wine$h.temp)"
   ]
  },
  {
   "cell_type": "markdown",
   "metadata": {},
   "source": [
    "#### (a) Suppose that you'd like to conduct a hypothesis test at the $\\alpha = 0.02$ level to decide whether the true mean temperature (C) at harvest is less than 18 degrees C. State the null and alternative hypotheses   (10 PTS) ."
   ]
  },
  {
   "cell_type": "markdown",
   "metadata": {},
   "source": []
  },
  {
   "cell_type": "markdown",
   "metadata": {},
   "source": [
    "#### (b) Conduct the appropriate hypothesis test using the p-value method. Clearly state your conclusion. (10 PTS)"
   ]
  },
  {
   "cell_type": "code",
   "execution_count": null,
   "metadata": {},
   "outputs": [],
   "source": [
    "alpha = 0.02; cv = qnorm(1-alpha/2)\n",
    "xbar = mean(wine$h.temp); \n",
    "s = sd(wine$h.temp);\n",
    "n = length(wine$h.temp)\n",
    "z = (xbar - 18)/(s/sqrt(n)); z\n",
    "pvalue = pnorm(z); cat(\"The p-value is\", pvalue, \".\")"
   ]
  },
  {
   "cell_type": "markdown",
   "metadata": {},
   "source": []
  },
  {
   "cell_type": "markdown",
   "metadata": {},
   "source": [
    "#### (c) Can you find a built in R function that does this computation automatically?  (5 PTS)"
   ]
  },
  {
   "cell_type": "code",
   "execution_count": null,
   "metadata": {},
   "outputs": [],
   "source": []
  },
  {
   "cell_type": "markdown",
   "metadata": {},
   "source": [
    "## Problem #2\n",
    "\n",
    "Let's consider a situation where our data, $X_1,...,X_n$ are randomly sampled from a normal distribution and we want to test a claim about the variance, $\\sigma^2$. It turns out that if the population is normal, then\n",
    "\\begin{align*}\n",
    "T = \\frac{(n-1)S^2}{\\sigma^2} \\sim \\chi^2(n-1).\n",
    "\\end{align*}\n",
    "That is, the statistic $T$ has a \"chi-squared distribution\" with $n-1$ degrees of freedom. Don't worry if you've never seen this distribution before; you can learn a few things about it [here](https://en.wikipedia.org/wiki/Chi-squared_distribution). We can use $T$ to test claims about a population variance. In this exercise, let's consider testing $$H_0: \\sigma^2 = 1 \\,\\,\\, vs \\,\\,\\, H_1: \\sigma^2 > 1,$$ at the $\\alpha = 0.05$ level. We're going to run simulations to understand the properties of the this test. First, we'll generate many samples under $H_0$. Then, we'll generate many samples under a particular value in $H_1$. \n",
    "\n",
    "#### (a) Generate $m = 1000$ samples of size $n = 10$ from a standard normal distribution. The result should be an $n$ by $m$ matrix (call it x0). Note: here, we are generating data under $H_0$  (10 PTS)."
   ]
  },
  {
   "cell_type": "code",
   "execution_count": null,
   "metadata": {},
   "outputs": [],
   "source": []
  },
  {
   "cell_type": "markdown",
   "metadata": {},
   "source": [
    "#### (b) For each sample of size $n = 10$ (each column), calculate $T$, assuming that $H_0$ is true. The result should be a vector of length $m = 1000$. Print a density histogram of $T$, and overlay the pdf for $\\chi^2(n-1)$ (use the lines() and dchisq() functions ). Does it appear that the distribution of $T$ follows the specified chi-squared distribution? (10 PTS)"
   ]
  },
  {
   "cell_type": "code",
   "execution_count": null,
   "metadata": {},
   "outputs": [],
   "source": []
  },
  {
   "cell_type": "markdown",
   "metadata": {},
   "source": [
    "#### (c) Calculate the p-value for each value of $T$. Call the result pvalue. The p-value in this case will be the probability (calculated using the cdf of $\\chi^2(n-1)$), that you get a test statistic at least as extreme (large) as the one you got, assuming $H_0$.  The result, pvalue, should be a vector of length $m$. Print a density histogram of these pvalue. Comment on the shape of the distribution. (15 PTS)"
   ]
  },
  {
   "cell_type": "code",
   "execution_count": null,
   "metadata": {},
   "outputs": [],
   "source": []
  },
  {
   "cell_type": "markdown",
   "metadata": {},
   "source": []
  },
  {
   "cell_type": "markdown",
   "metadata": {},
   "source": [
    "#### (d) Suppose that $\\alpha = 0.05$, and we plan on rejecting $H_0$ when the p-value is less than $\\alpha$. Use your result from part (c) to estimate the probability of type I error. Is your estimate close to the true probability of type I error? (10 PTS)"
   ]
  },
  {
   "cell_type": "code",
   "execution_count": null,
   "metadata": {},
   "outputs": [],
   "source": []
  },
  {
   "cell_type": "markdown",
   "metadata": {},
   "source": [
    "#### (e) Now, generate $m = 1000$ samples of size $n = 10$ from a $N(0,2)$. The result should be an $n$ by $m$ matrix (call it x1). Note: here, we are generating data under a particular value in $H_1$ (namely, $\\sigma^2 = 2$). (10 PTS)\n",
    "\n",
    "The goal for the remaining parts is to see what happens when the null is false, but we conduct a hypothesis test as usual (*assuming* the null is true)."
   ]
  },
  {
   "cell_type": "code",
   "execution_count": null,
   "metadata": {},
   "outputs": [],
   "source": []
  },
  {
   "cell_type": "markdown",
   "metadata": {},
   "source": [
    "#### (f) For each sample of size $n = 10$ (each column) in x1, calculate $T$, (again, assuming that $H_0$ is true). Call these new $T$'s T2. The result, T2, should be a vector of length $m = 1000$. Calculate the p-value for each value in T2 (again, assuming $H_0$); call the result pvalue2. Plot pvalue2 using a density histogram. (10 PTS)"
   ]
  },
  {
   "cell_type": "code",
   "execution_count": null,
   "metadata": {},
   "outputs": [],
   "source": []
  },
  {
   "cell_type": "markdown",
   "metadata": {},
   "source": [
    "#### (g) Estimate the probability of type II error when $\\sigma^2 = 2$. That is, estimate the probability that you fail to reject $H_0$ (i.e., that the pvalue is greater than $\\alpha = 0.05$) when $H_1: \\sigma^2 = 2$ is true. (5 PTS)"
   ]
  },
  {
   "cell_type": "code",
   "execution_count": null,
   "metadata": {},
   "outputs": [],
   "source": []
  },
  {
   "cell_type": "markdown",
   "metadata": {},
   "source": [
    "#### (h) Interpret the result from part (g). What does this mean? Is this a good test procedure if the true value for $\\sigma^2$ is 2? What might make the test more \"powerful\"? (5 PTS)"
   ]
  },
  {
   "cell_type": "markdown",
   "metadata": {},
   "source": []
  }
 ],
 "metadata": {
  "kernelspec": {
   "display_name": "R",
   "language": "R",
   "name": "ir"
  },
  "language_info": {
   "codemirror_mode": "r",
   "file_extension": ".r",
   "mimetype": "text/x-r-source",
   "name": "R",
   "pygments_lexer": "r",
   "version": "3.6.1"
  }
 },
 "nbformat": 4,
 "nbformat_minor": 4
}
