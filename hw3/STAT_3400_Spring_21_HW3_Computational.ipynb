{
  "nbformat": 4,
  "nbformat_minor": 0,
  "metadata": {
    "kernelspec": {
      "display_name": "R",
      "language": "R",
      "name": "ir"
    },
    "language_info": {
      "codemirror_mode": "r",
      "file_extension": ".r",
      "mimetype": "text/x-r-source",
      "name": "R",
      "pygments_lexer": "r",
      "version": "3.6.1"
    },
    "colab": {
      "name": "STAT-3400_Spring_21_HW3_Computational.ipynb",
      "provenance": []
    }
  },
  "cells": [
    {
      "cell_type": "markdown",
      "metadata": {
        "id": "qNeE6VDRRN4-"
      },
      "source": [
        "# Computational Homework #3\n",
        "\n",
        "**Due by midnight on Wednesday February 10, 2021. Submit on Canvas**. Answer all of the following problems. These problems should be completed in this notebook (using the R kernel). Computational questions may require code, plots, analysis, interpretation, etc. Working in small groups is allowed, but it is important that you make an effort to master the material and hand in your own work. \n"
      ]
    },
    {
      "cell_type": "markdown",
      "metadata": {
        "id": "aUJzZT4MRN5C"
      },
      "source": [
        "## Problem #1\n",
        "\n",
        "#### Load the ${\\tt wine}$ dataset into R. This dataset is available in the ${\\tt gamair}$ library. A description of the variables can be obtained [here](https://cran.r-project.org/web/packages/gamair/gamair.pdf)."
      ]
    },
    {
      "cell_type": "code",
      "metadata": {
        "colab": {
          "base_uri": "https://localhost:8080/",
          "height": 351
        },
        "id": "t75A20-ERN5D",
        "outputId": "f1316281-2a90-44e3-eedc-c945eddc2a4a"
      },
      "source": [
        "install.packages('gamair')\n",
        "library(gamair)\n",
        "\n",
        "data(wine)\n",
        "\n",
        "head(wine)\n",
        "\n",
        "length(wine$h.temp)"
      ],
      "execution_count": 3,
      "outputs": [
        {
          "output_type": "stream",
          "text": [
            "Installing package into ‘/usr/local/lib/R/site-library’\n",
            "(as ‘lib’ is unspecified)\n",
            "\n"
          ],
          "name": "stderr"
        },
        {
          "output_type": "display_data",
          "data": {
            "text/plain": [
              "  year price h.rain s.temp w.rain h.temp parker\n",
              "1 1952 37    160    17.1   600    14.3   NA    \n",
              "2 1953 63     80    16.7   690    17.3   NA    \n",
              "3 1954 12    180    15.4   430    16.8   NA    \n",
              "4 1955 45    130    17.1   502    16.8   NA    \n",
              "5 1956 15    140    15.6   440    17.2   NA    \n",
              "6 1957 22    110    16.1   420    16.2   NA    "
            ],
            "text/latex": "A data.frame: 6 × 7\n\\begin{tabular}{r|lllllll}\n  & year & price & h.rain & s.temp & w.rain & h.temp & parker\\\\\n  & <int> & <int> & <int> & <dbl> & <int> & <dbl> & <dbl>\\\\\n\\hline\n\t1 & 1952 & 37 & 160 & 17.1 & 600 & 14.3 & NA\\\\\n\t2 & 1953 & 63 &  80 & 16.7 & 690 & 17.3 & NA\\\\\n\t3 & 1954 & 12 & 180 & 15.4 & 430 & 16.8 & NA\\\\\n\t4 & 1955 & 45 & 130 & 17.1 & 502 & 16.8 & NA\\\\\n\t5 & 1956 & 15 & 140 & 15.6 & 440 & 17.2 & NA\\\\\n\t6 & 1957 & 22 & 110 & 16.1 & 420 & 16.2 & NA\\\\\n\\end{tabular}\n",
            "text/markdown": "\nA data.frame: 6 × 7\n\n| <!--/--> | year &lt;int&gt; | price &lt;int&gt; | h.rain &lt;int&gt; | s.temp &lt;dbl&gt; | w.rain &lt;int&gt; | h.temp &lt;dbl&gt; | parker &lt;dbl&gt; |\n|---|---|---|---|---|---|---|---|\n| 1 | 1952 | 37 | 160 | 17.1 | 600 | 14.3 | NA |\n| 2 | 1953 | 63 |  80 | 16.7 | 690 | 17.3 | NA |\n| 3 | 1954 | 12 | 180 | 15.4 | 430 | 16.8 | NA |\n| 4 | 1955 | 45 | 130 | 17.1 | 502 | 16.8 | NA |\n| 5 | 1956 | 15 | 140 | 15.6 | 440 | 17.2 | NA |\n| 6 | 1957 | 22 | 110 | 16.1 | 420 | 16.2 | NA |\n\n",
            "text/html": [
              "<table class=\"dataframe\">\n",
              "<caption>A data.frame: 6 × 7</caption>\n",
              "<thead>\n",
              "\t<tr><th></th><th scope=col>year</th><th scope=col>price</th><th scope=col>h.rain</th><th scope=col>s.temp</th><th scope=col>w.rain</th><th scope=col>h.temp</th><th scope=col>parker</th></tr>\n",
              "\t<tr><th></th><th scope=col>&lt;int&gt;</th><th scope=col>&lt;int&gt;</th><th scope=col>&lt;int&gt;</th><th scope=col>&lt;dbl&gt;</th><th scope=col>&lt;int&gt;</th><th scope=col>&lt;dbl&gt;</th><th scope=col>&lt;dbl&gt;</th></tr>\n",
              "</thead>\n",
              "<tbody>\n",
              "\t<tr><th scope=row>1</th><td>1952</td><td>37</td><td>160</td><td>17.1</td><td>600</td><td>14.3</td><td>NA</td></tr>\n",
              "\t<tr><th scope=row>2</th><td>1953</td><td>63</td><td> 80</td><td>16.7</td><td>690</td><td>17.3</td><td>NA</td></tr>\n",
              "\t<tr><th scope=row>3</th><td>1954</td><td>12</td><td>180</td><td>15.4</td><td>430</td><td>16.8</td><td>NA</td></tr>\n",
              "\t<tr><th scope=row>4</th><td>1955</td><td>45</td><td>130</td><td>17.1</td><td>502</td><td>16.8</td><td>NA</td></tr>\n",
              "\t<tr><th scope=row>5</th><td>1956</td><td>15</td><td>140</td><td>15.6</td><td>440</td><td>17.2</td><td>NA</td></tr>\n",
              "\t<tr><th scope=row>6</th><td>1957</td><td>22</td><td>110</td><td>16.1</td><td>420</td><td>16.2</td><td>NA</td></tr>\n",
              "</tbody>\n",
              "</table>\n"
            ]
          },
          "metadata": {
            "tags": []
          }
        },
        {
          "output_type": "display_data",
          "data": {
            "text/plain": [
              "[1] 47"
            ],
            "text/latex": "47",
            "text/markdown": "47",
            "text/html": [
              "47"
            ]
          },
          "metadata": {
            "tags": []
          }
        }
      ]
    },
    {
      "cell_type": "markdown",
      "metadata": {
        "id": "szdkCX3SRN5D"
      },
      "source": [
        "#### (a) Suppose that you'd like to conduct a hypothesis test at the $\\alpha = 0.02$ level to decide whether the true mean temperature (C) at harvest is less than 18 degrees C. State the null and alternative hypotheses   (10 PTS) ."
      ]
    },
    {
      "cell_type": "markdown",
      "metadata": {
        "id": "kz6yhLWmRN5D"
      },
      "source": [
        "$H_0$ = The true mean tempearture is greater than $18^oC$ \n",
        "\n",
        "$H_A$ = The true mean temperature is less than $18^oC$"
      ]
    },
    {
      "cell_type": "markdown",
      "metadata": {
        "id": "M4kIayMIRN5E"
      },
      "source": [
        "#### (b) Conduct the appropriate hypothesis test using the p-value method. Clearly state your conclusion. (10 PTS)"
      ]
    },
    {
      "cell_type": "code",
      "metadata": {
        "colab": {
          "base_uri": "https://localhost:8080/",
          "height": 51
        },
        "id": "wSR1hDm-RN5E",
        "outputId": "4c27cac0-552b-4f78-a99a-e09275afcd08"
      },
      "source": [
        "alpha = 0.02; cv = qnorm(1-alpha/2)\n",
        "xbar = mean(wine$h.temp); \n",
        "s = sd(wine$h.temp);\n",
        "n = length(wine$h.temp)\n",
        "z = (xbar - 18)/(s/sqrt(n)); z\n",
        "pvalue = pnorm(z); cat(\"The p-value is\", pvalue, \".\")"
      ],
      "execution_count": 4,
      "outputs": [
        {
          "output_type": "display_data",
          "data": {
            "text/plain": [
              "[1] -2.96456"
            ],
            "text/latex": "-2.96456031920062",
            "text/markdown": "-2.96456031920062",
            "text/html": [
              "-2.96456031920062"
            ]
          },
          "metadata": {
            "tags": []
          }
        },
        {
          "output_type": "stream",
          "text": [
            "The p-value is 0.001515579 ."
          ],
          "name": "stdout"
        }
      ]
    },
    {
      "cell_type": "code",
      "metadata": {
        "colab": {
          "base_uri": "https://localhost:8080/",
          "height": 34
        },
        "id": "a1hotkfKViF5",
        "outputId": "a4fbe70c-3879-4133-c4e0-206a92bcf2b8"
      },
      "source": [
        "xbar"
      ],
      "execution_count": 5,
      "outputs": [
        {
          "output_type": "display_data",
          "data": {
            "text/plain": [
              "[1] 17.4"
            ],
            "text/latex": "17.4",
            "text/markdown": "17.4",
            "text/html": [
              "17.4"
            ]
          },
          "metadata": {
            "tags": []
          }
        }
      ]
    },
    {
      "cell_type": "markdown",
      "metadata": {
        "id": "FvX1lU-wRN5E"
      },
      "source": [
        "After conducting a standard one tailed t-test we see that the p-value is less than $\\alpha =0.02$ such that p < 0.02. Therefor we reject the null hypothesis and conclude the true mean temperature is less than $18^o C$ "
      ]
    },
    {
      "cell_type": "markdown",
      "metadata": {
        "id": "z_dUfShZRN5E"
      },
      "source": [
        "#### (c) Can you find a built in R function that does this computation automatically?  (5 PTS)"
      ]
    },
    {
      "cell_type": "code",
      "metadata": {
        "id": "rEePyLvARN5E"
      },
      "source": [
        "# no, so I wrote one...\n",
        "z_test <- function(x,mu,s,n,tailed){\n",
        "  z <- (x-mu)/(s/sqrt(n))\n",
        "  if(tailed==1) return(cat('Zscore is ',z,'\\np-value is', pnorm(-abs(z))))\n",
        "  if(tailed==2) return(cat('Zscore is ',z,'\\np-value is', 2*pnorm(-abs(z))))\n",
        "}"
      ],
      "execution_count": 7,
      "outputs": []
    },
    {
      "cell_type": "markdown",
      "metadata": {
        "id": "mtM83pGZRN5F"
      },
      "source": [
        "## Problem #2\n",
        "\n",
        "Let's consider a situation where our data, $X_1,...,X_n$ are randomly sampled from a normal distribution and we want to test a claim about the variance, $\\sigma^2$. It turns out that if the population is normal, then\n",
        "\\begin{align*}\n",
        "T = \\frac{(n-1)S^2}{\\sigma^2} \\sim \\chi^2(n-1).\n",
        "\\end{align*}\n",
        "That is, the statistic $T$ has a \"chi-squared distribution\" with $n-1$ degrees of freedom. Don't worry if you've never seen this distribution before; you can learn a few things about it [here](https://en.wikipedia.org/wiki/Chi-squared_distribution). We can use $T$ to test claims about a population variance. In this exercise, let's consider testing $$H_0: \\sigma^2 = 1 \\,\\,\\, vs \\,\\,\\, H_1: \\sigma^2 > 1,$$ at the $\\alpha = 0.05$ level. We're going to run simulations to understand the properties of the this test. First, we'll generate many samples under $H_0$. Then, we'll generate many samples under a particular value in $H_1$. \n",
        "\n",
        "#### (a) Generate $m = 1000$ samples of size $n = 10$ from a standard normal distribution. The result should be an $n$ by $m$ matrix (call it x0). Note: here, we are generating data under $H_0$  (10 PTS)."
      ]
    },
    {
      "cell_type": "code",
      "metadata": {
        "colab": {
          "base_uri": "https://localhost:8080/",
          "height": 34
        },
        "id": "JkpeDtIFRN5F",
        "outputId": "59bfb486-547f-4d3e-b409-2b7a3abe71c2"
      },
      "source": [
        "x0 = matrix(ncol = 1000, nrow = 10)\n",
        "for(i in 1:1000){\n",
        "  x0[,i] <- rnorm(10)\n",
        "}\n",
        "length(x0[,1])"
      ],
      "execution_count": 20,
      "outputs": [
        {
          "output_type": "display_data",
          "data": {
            "text/plain": [
              "[1] 10"
            ],
            "text/latex": "10",
            "text/markdown": "10",
            "text/html": [
              "10"
            ]
          },
          "metadata": {
            "tags": []
          }
        }
      ]
    },
    {
      "cell_type": "markdown",
      "metadata": {
        "id": "acENOoV1RN5F"
      },
      "source": [
        "#### (b) For each sample of size $n = 10$ (each column), calculate $T$, assuming that $H_0$ is true. The result should be a vector of length $m = 1000$. Print a density histogram of $T$, and overlay the pdf for $\\chi^2(n-1)$ (use the lines() and dchisq() functions ). Does it appear that the distribution of $T$ follows the specified chi-squared distribution? (10 PTS)"
      ]
    },
    {
      "cell_type": "code",
      "metadata": {
        "id": "Ky0Am3TjRN5F"
      },
      "source": [
        "t <- rep(0,1000)\n",
        "for(i in 1:1000){\n",
        "  x <- x0[,i]\n",
        "  t[i] = (length(x)-1)*sd(x)^2\n",
        "}"
      ],
      "execution_count": 28,
      "outputs": []
    },
    {
      "cell_type": "code",
      "metadata": {
        "colab": {
          "base_uri": "https://localhost:8080/",
          "height": 437
        },
        "id": "lYjl8CvYihrJ",
        "outputId": "535b96b5-57ce-4d72-d34e-268ac3b64baf"
      },
      "source": [
        "hist(t,prob=T)\n",
        "x <- rchisq(10,df=9)\n",
        "curve( dchisq(x, df=9), col='green', add=TRUE)"
      ],
      "execution_count": 30,
      "outputs": [
        {
          "output_type": "display_data",
          "data": {
            "image/png": "[encoded data removed]",
            "text/plain": [
              "Plot with title “Histogram of t”"
            ]
          },
          "metadata": {
            "tags": [],
            "image/png": {
              "width": 420,
              "height": 420
            }
          }
        }
      ]
    },
    {
      "cell_type": "markdown",
      "metadata": {
        "id": "oM2DIGqMRN5G"
      },
      "source": [
        "#### (c) Calculate the p-value for each value of $T$. Call the result pvalue. The p-value in this case will be the probability (calculated using the cdf of $\\chi^2(n-1)$), that you get a test statistic at least as extreme (large) as the one you got, assuming $H_0$.  The result, pvalue, should be a vector of length $m$. Print a density histogram of these pvalue. Comment on the shape of the distribution. (15 PTS)"
      ]
    },
    {
      "cell_type": "code",
      "metadata": {
        "colab": {
          "base_uri": "https://localhost:8080/",
          "height": 437
        },
        "id": "pOmlfvthRN5G",
        "outputId": "1b23f8da-2451-4194-f77c-3499f8c09444"
      },
      "source": [
        "pvalue <- rep(0,1000)\n",
        "for(i in 1:1000){\n",
        "  pvalue[i] <- pchisq(t[i], df =9)\n",
        "}\n",
        "hist(pvalue)"
      ],
      "execution_count": 39,
      "outputs": [
        {
          "output_type": "display_data",
          "data": {
            "image/png": "[encoded data removed]",
            "text/plain": [
              "Plot with title “Histogram of pvalue”"
            ]
          },
          "metadata": {
            "tags": [],
            "image/png": {
              "width": 420,
              "height": 420
            }
          }
        }
      ]
    },
    {
      "cell_type": "markdown",
      "metadata": {
        "id": "byl17iq8RN5G"
      },
      "source": [
        "The histogram of pvalue does not seem to take any noticable shape. The closest thing it resembels is a uniform distribution. Which makes sense statistically, as our $T$ statistic is repedeatly sampled under the null hypothesis and therefor should not be skewed to any side of the graph but rather uniformly distributed."
      ]
    },
    {
      "cell_type": "markdown",
      "metadata": {
        "id": "t6kJQeouRN5G"
      },
      "source": [
        "#### (d) Suppose that $\\alpha = 0.05$, and we plan on rejecting $H_0$ when the p-value is less than $\\alpha$. Use your result from part (c) to estimate the probability of type I error. Is your estimate close to the true probability of type I error? (10 PTS)"
      ]
    },
    {
      "cell_type": "code",
      "metadata": {
        "colab": {
          "base_uri": "https://localhost:8080/",
          "height": 34
        },
        "id": "E8OrdoNpRN5G",
        "outputId": "30fa6831-a53e-403a-f0c1-3465eb115d12"
      },
      "source": [
        "type1 <- rep(0,1000)\n",
        "for(i in 1:1000){\n",
        "  if(pvalue[i] <= 0.05) type1[i] <- 1\n",
        "}\n",
        "sum(type1)/length(type1)\n",
        "#pretty dang close!"
      ],
      "execution_count": 16,
      "outputs": [
        {
          "output_type": "display_data",
          "data": {
            "text/plain": [
              "[1] 0.051"
            ],
            "text/latex": "0.051",
            "text/markdown": "0.051",
            "text/html": [
              "0.051"
            ]
          },
          "metadata": {
            "tags": []
          }
        }
      ]
    },
    {
      "cell_type": "markdown",
      "metadata": {
        "id": "jL0Qq7B_RN5G"
      },
      "source": [
        "#### (e) Now, generate $m = 1000$ samples of size $n = 10$ from a $N(0,2)$. The result should be an $n$ by $m$ matrix (call it x1). Note: here, we are generating data under a particular value in $H_1$ (namely, $\\sigma^2 = 2$). (10 PTS)\n",
        "\n",
        "The goal for the remaining parts is to see what happens when the null is false, but we conduct a hypothesis test as usual (*assuming* the null is true)."
      ]
    },
    {
      "cell_type": "code",
      "metadata": {
        "id": "xSO8k0I1RN5H"
      },
      "source": [
        "x1 <- matrix(nrow=10,ncol=1000)\n",
        "for(i in 1:1000){\n",
        "  x1[,i] <- rnorm(10,mean=0,sd=sqrt(2))\n",
        "}"
      ],
      "execution_count": 2,
      "outputs": []
    },
    {
      "cell_type": "markdown",
      "metadata": {
        "id": "2fwSLpRrRN5H"
      },
      "source": [
        "#### (f) For each sample of size $n = 10$ (each column) in x1, calculate $T$, (again, assuming that $H_0$ is true). Call these new $T$'s T2. The result, T2, should be a vector of length $m = 1000$. Calculate the p-value for each value in T2 (again, assuming $H_0$); call the result pvalue2. Plot pvalue2 using a density histogram. (10 PTS)"
      ]
    },
    {
      "cell_type": "code",
      "metadata": {
        "colab": {
          "base_uri": "https://localhost:8080/",
          "height": 437
        },
        "id": "DCh3gZVVRN5H",
        "outputId": "1bc498b2-4f68-4368-c24f-d4939bb29af6"
      },
      "source": [
        "t2 <- rep(0,1000)\n",
        "for(i in 1:1000){\n",
        "  x <- x1[,i]\n",
        "  t2[i] = ((length(x)-1)*sd(x)^2)/2\n",
        "}\n",
        "pvalue2 <- rep(0,1000)\n",
        "for(i in 1:1000){\n",
        "  pvalue2[i] <- pchisq(t2[i], df =9)\n",
        "}\n",
        "hist(pvalue2)"
      ],
      "execution_count": 12,
      "outputs": [
        {
          "output_type": "display_data",
          "data": {
            "image/png": "[encoded data removed]",
            "text/plain": [
              "Plot with title “Histogram of pvalue2”"
            ]
          },
          "metadata": {
            "tags": [],
            "image/png": {
              "width": 420,
              "height": 420
            }
          }
        }
      ]
    },
    {
      "cell_type": "markdown",
      "metadata": {
        "id": "WHeT3DUvRN5H"
      },
      "source": [
        "#### (g) Estimate the probability of type II error when $\\sigma^2 = 2$. That is, estimate the probability that you fail to reject $H_0$ (i.e., that the pvalue is greater than $\\alpha = 0.05$) when $H_1: \\sigma^2 = 2$ is true. (5 PTS)"
      ]
    },
    {
      "cell_type": "code",
      "metadata": {
        "colab": {
          "base_uri": "https://localhost:8080/",
          "height": 34
        },
        "id": "36R0zpeYRN5H",
        "outputId": "de5d803a-2b35-4925-c925-b04cf5e690b6"
      },
      "source": [
        "type2 <- rep(0,1000)\n",
        "for(i in 1:1000){\n",
        "  if(pvalue2[i] > 0.05) type2[i] <- 1\n",
        "}\n",
        "sum(type2)/length(type2)\n",
        "# p > .05, fail to reject the null!!"
      ],
      "execution_count": 15,
      "outputs": [
        {
          "output_type": "display_data",
          "data": {
            "text/plain": [
              "[1] 0.949"
            ],
            "text/latex": "0.949",
            "text/markdown": "0.949",
            "text/html": [
              "0.949"
            ]
          },
          "metadata": {
            "tags": []
          }
        }
      ]
    },
    {
      "cell_type": "markdown",
      "metadata": {
        "id": "NO2CicYhRN5H"
      },
      "source": [
        "#### (h) Interpret the result from part (g). What does this mean? Is this a good test procedure if the true value for $\\sigma^2$ is 2? What might make the test more \"powerful\"? (5 PTS)"
      ]
    },
    {
      "cell_type": "markdown",
      "metadata": {
        "id": "sjb2wgzJRN5I"
      },
      "source": [
        "Due to p > 0.05, we reject to fail the null. Meaning the population variance $𝜎 ^2$ is not greater than 1 given the null hypothesis that $𝜎^2 = 1$. This is obvioulsy wrong, as we set our population variance to 2 during the second simulation. The reason this test failed is likely because we aimed to use the normal distribution in a sample of only 10 people. Which meant our degrees of freedom was a mere 9. To fix this problem we may have been better suited using a t-test."
      ]
    },
    {
      "cell_type": "code",
      "metadata": {
        "id": "o090QLHc1hgD"
      },
      "source": [
        ""
      ],
      "execution_count": null,
      "outputs": []
    }
  ]
}