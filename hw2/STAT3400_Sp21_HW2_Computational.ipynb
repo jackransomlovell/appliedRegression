{
  "nbformat": 4,
  "nbformat_minor": 0,
  "metadata": {
    "kernelspec": {
      "display_name": "R",
      "language": "R",
      "name": "ir"
    },
    "language_info": {
      "codemirror_mode": "r",
      "file_extension": ".r",
      "mimetype": "text/x-r-source",
      "name": "R",
      "pygments_lexer": "r",
      "version": "3.3.2"
    },
    "colab": {
      "name": "STAT3400_Sp21_HW2_Computational.ipynb",
      "provenance": []
    }
  },
  "cells": [
    {
      "cell_type": "markdown",
      "metadata": {
        "id": "gEgJfyh9sbC8"
      },
      "source": [
        "# Computational Homework #2\n",
        "\n",
        "**Due by midnight on Friday February 1, 2019. Submit on Canvas**. Answer all of the following problems. These problems should be completed in this notebook (using the R kernel). Computational questions may require code, plots, analysis, interpretation, etc. Working in small groups is allowed, but it is important that you make an effort to master the material and hand in your own work. \n"
      ]
    },
    {
      "cell_type": "markdown",
      "metadata": {
        "id": "y1XeJ_lrsbDE"
      },
      "source": [
        "## Problem #1\n",
        "\n",
        "Load ${\\tt hubble.txt}$ into R. A description of the variables can be obtained from page 73 of https://cran.r-project.org/web/packages/gamair/gamair.pdf."
      ]
    },
    {
      "cell_type": "code",
      "metadata": {
        "colab": {
          "base_uri": "https://localhost:8080/",
          "height": 841
        },
        "id": "pCjW_b5ZsbDF",
        "outputId": "657f91af-36cf-492c-f88b-d8de47b9c0a0"
      },
      "source": [
        "data = read.csv('hubble.csv')\n",
        "data"
      ],
      "execution_count": null,
      "outputs": [
        {
          "output_type": "display_data",
          "data": {
            "text/plain": [
              "   Galaxy   y    x    \n",
              "1  NGC0300   133  2.00\n",
              "2  NGC0925   664  9.16\n",
              "3  NGC1326A 1794 16.14\n",
              "4  NGC1365  1594 17.95\n",
              "5  NGC1425  1473 21.88\n",
              "6  NGC2403   278  3.22\n",
              "7  NGC2541   714 11.22\n",
              "8  NGC2090   882 11.75\n",
              "9  NGC3031    80  3.63\n",
              "10 NGC3198   772 13.80\n",
              "11 NGC3351   642 10.00\n",
              "12 NGC3368   768 10.52\n",
              "13 NGC3621   609  6.64\n",
              "14 NGC4321  1433 15.21\n",
              "15 NGC4414   619 17.70\n",
              "16 NGC4496A 1424 14.86\n",
              "17 NGC4548  1384 16.22\n",
              "18 NGC4535  1444 15.78\n",
              "19 NGC4536  1423 14.93\n",
              "20 NGC4639  1403 21.98\n",
              "21 NGC4725  1103 12.36\n",
              "22 IC4182    318  4.49\n",
              "23 NGC5253   232  3.15\n",
              "24 NGC7331   999 14.72"
            ],
            "text/latex": "A data.frame: 24 × 3\n\\begin{tabular}{lll}\n Galaxy & y & x\\\\\n <chr> & <int> & <dbl>\\\\\n\\hline\n\t NGC0300  &  133 &  2.00\\\\\n\t NGC0925  &  664 &  9.16\\\\\n\t NGC1326A & 1794 & 16.14\\\\\n\t NGC1365  & 1594 & 17.95\\\\\n\t NGC1425  & 1473 & 21.88\\\\\n\t NGC2403  &  278 &  3.22\\\\\n\t NGC2541  &  714 & 11.22\\\\\n\t NGC2090  &  882 & 11.75\\\\\n\t NGC3031  &   80 &  3.63\\\\\n\t NGC3198  &  772 & 13.80\\\\\n\t NGC3351  &  642 & 10.00\\\\\n\t NGC3368  &  768 & 10.52\\\\\n\t NGC3621  &  609 &  6.64\\\\\n\t NGC4321  & 1433 & 15.21\\\\\n\t NGC4414  &  619 & 17.70\\\\\n\t NGC4496A & 1424 & 14.86\\\\\n\t NGC4548  & 1384 & 16.22\\\\\n\t NGC4535  & 1444 & 15.78\\\\\n\t NGC4536  & 1423 & 14.93\\\\\n\t NGC4639  & 1403 & 21.98\\\\\n\t NGC4725  & 1103 & 12.36\\\\\n\t IC4182   &  318 &  4.49\\\\\n\t NGC5253  &  232 &  3.15\\\\\n\t NGC7331  &  999 & 14.72\\\\\n\\end{tabular}\n",
            "text/markdown": "\nA data.frame: 24 × 3\n\n| Galaxy &lt;chr&gt; | y &lt;int&gt; | x &lt;dbl&gt; |\n|---|---|---|\n| NGC0300  |  133 |  2.00 |\n| NGC0925  |  664 |  9.16 |\n| NGC1326A | 1794 | 16.14 |\n| NGC1365  | 1594 | 17.95 |\n| NGC1425  | 1473 | 21.88 |\n| NGC2403  |  278 |  3.22 |\n| NGC2541  |  714 | 11.22 |\n| NGC2090  |  882 | 11.75 |\n| NGC3031  |   80 |  3.63 |\n| NGC3198  |  772 | 13.80 |\n| NGC3351  |  642 | 10.00 |\n| NGC3368  |  768 | 10.52 |\n| NGC3621  |  609 |  6.64 |\n| NGC4321  | 1433 | 15.21 |\n| NGC4414  |  619 | 17.70 |\n| NGC4496A | 1424 | 14.86 |\n| NGC4548  | 1384 | 16.22 |\n| NGC4535  | 1444 | 15.78 |\n| NGC4536  | 1423 | 14.93 |\n| NGC4639  | 1403 | 21.98 |\n| NGC4725  | 1103 | 12.36 |\n| IC4182   |  318 |  4.49 |\n| NGC5253  |  232 |  3.15 |\n| NGC7331  |  999 | 14.72 |\n\n",
            "text/html": [
              "<table class=\"dataframe\">\n",
              "<caption>A data.frame: 24 × 3</caption>\n",
              "<thead>\n",
              "\t<tr><th scope=col>Galaxy</th><th scope=col>y</th><th scope=col>x</th></tr>\n",
              "\t<tr><th scope=col>&lt;chr&gt;</th><th scope=col>&lt;int&gt;</th><th scope=col>&lt;dbl&gt;</th></tr>\n",
              "</thead>\n",
              "<tbody>\n",
              "\t<tr><td>NGC0300 </td><td> 133</td><td> 2.00</td></tr>\n",
              "\t<tr><td>NGC0925 </td><td> 664</td><td> 9.16</td></tr>\n",
              "\t<tr><td>NGC1326A</td><td>1794</td><td>16.14</td></tr>\n",
              "\t<tr><td>NGC1365 </td><td>1594</td><td>17.95</td></tr>\n",
              "\t<tr><td>NGC1425 </td><td>1473</td><td>21.88</td></tr>\n",
              "\t<tr><td>NGC2403 </td><td> 278</td><td> 3.22</td></tr>\n",
              "\t<tr><td>NGC2541 </td><td> 714</td><td>11.22</td></tr>\n",
              "\t<tr><td>NGC2090 </td><td> 882</td><td>11.75</td></tr>\n",
              "\t<tr><td>NGC3031 </td><td>  80</td><td> 3.63</td></tr>\n",
              "\t<tr><td>NGC3198 </td><td> 772</td><td>13.80</td></tr>\n",
              "\t<tr><td>NGC3351 </td><td> 642</td><td>10.00</td></tr>\n",
              "\t<tr><td>NGC3368 </td><td> 768</td><td>10.52</td></tr>\n",
              "\t<tr><td>NGC3621 </td><td> 609</td><td> 6.64</td></tr>\n",
              "\t<tr><td>NGC4321 </td><td>1433</td><td>15.21</td></tr>\n",
              "\t<tr><td>NGC4414 </td><td> 619</td><td>17.70</td></tr>\n",
              "\t<tr><td>NGC4496A</td><td>1424</td><td>14.86</td></tr>\n",
              "\t<tr><td>NGC4548 </td><td>1384</td><td>16.22</td></tr>\n",
              "\t<tr><td>NGC4535 </td><td>1444</td><td>15.78</td></tr>\n",
              "\t<tr><td>NGC4536 </td><td>1423</td><td>14.93</td></tr>\n",
              "\t<tr><td>NGC4639 </td><td>1403</td><td>21.98</td></tr>\n",
              "\t<tr><td>NGC4725 </td><td>1103</td><td>12.36</td></tr>\n",
              "\t<tr><td>IC4182  </td><td> 318</td><td> 4.49</td></tr>\n",
              "\t<tr><td>NGC5253 </td><td> 232</td><td> 3.15</td></tr>\n",
              "\t<tr><td>NGC7331 </td><td> 999</td><td>14.72</td></tr>\n",
              "</tbody>\n",
              "</table>\n"
            ]
          },
          "metadata": {
            "tags": []
          }
        }
      ]
    },
    {
      "cell_type": "markdown",
      "metadata": {
        "id": "2sFp8UM1sbDG"
      },
      "source": [
        "#### (a) Calculate the 85% confidence interval for the mean of a galaxy's distance from Earth in Mega parsecs in R by doing the computation explicitly."
      ]
    },
    {
      "cell_type": "code",
      "metadata": {
        "colab": {
          "base_uri": "https://localhost:8080/",
          "height": 51
        },
        "id": "dcb26aIhsbDG",
        "outputId": "0da3cc76-9d75-48a1-d732-60ce246bd832"
      },
      "source": [
        "#whats our sample size? \n",
        "nrow(data)\n",
        "#its <30 so we will use a t-distribution\n",
        "#get df\n",
        "v = nrow(data)-1\n",
        "alpha = 1-.85\n",
        "tscore = qt(alpha/2,v)\n",
        "mu = mean(data$x)\n",
        "sd = sd(data$x)\n",
        "CI = vector(mode = \"logical\", length = 2)\n",
        "CI[1] = mu+(tscore*(sd/sqrt(nrow(data))))\n",
        "CI[2] = mu-(tscore*(sd/sqrt(nrow(data))))\n",
        "CI"
      ],
      "execution_count": null,
      "outputs": [
        {
          "output_type": "display_data",
          "data": {
            "text/plain": [
              "[1] 24"
            ],
            "text/latex": "24",
            "text/markdown": "24",
            "text/html": [
              "24"
            ]
          },
          "metadata": {
            "tags": []
          }
        },
        {
          "output_type": "display_data",
          "data": {
            "text/plain": [
              "[1] 10.28695 13.82222"
            ],
            "text/latex": "\\begin{enumerate*}\n\\item 10.2869454144418\n\\item 13.8222212522248\n\\end{enumerate*}\n",
            "text/markdown": "1. 10.2869454144418\n2. 13.8222212522248\n\n\n",
            "text/html": [
              "<style>\n",
              ".list-inline {list-style: none; margin:0; padding: 0}\n",
              ".list-inline>li {display: inline-block}\n",
              ".list-inline>li:not(:last-child)::after {content: \"\\00b7\"; padding: 0 .5ex}\n",
              "</style>\n",
              "<ol class=list-inline><li>10.2869454144418</li><li>13.8222212522248</li></ol>\n"
            ]
          },
          "metadata": {
            "tags": []
          }
        }
      ]
    },
    {
      "cell_type": "markdown",
      "metadata": {
        "id": "m_X1509YsbDH"
      },
      "source": [
        "#### (b) Can you find a built in R function that does this computation automatically? "
      ]
    },
    {
      "cell_type": "code",
      "metadata": {
        "colab": {
          "base_uri": "https://localhost:8080/",
          "height": 204
        },
        "id": "VTfLCnUGsbDH",
        "outputId": "4888799c-dcca-4d40-e0f4-87b2084db36a"
      },
      "source": [
        "# yes, from Rmisc, the ci function...\n",
        "install.packages(\"Rmisc\")\n",
        "library(Rmisc)\n",
        "CI(data$x,ci=.85)"
      ],
      "execution_count": null,
      "outputs": [
        {
          "output_type": "stream",
          "text": [
            "Installing package into ‘/usr/local/lib/R/site-library’\n",
            "(as ‘lib’ is unspecified)\n",
            "\n",
            "also installing the dependency ‘plyr’\n",
            "\n",
            "\n",
            "Loading required package: lattice\n",
            "\n",
            "Loading required package: plyr\n",
            "\n"
          ],
          "name": "stderr"
        },
        {
          "output_type": "display_data",
          "data": {
            "text/plain": [
              "   upper     mean    lower \n",
              "13.82222 12.05458 10.28695 "
            ],
            "text/latex": "\\begin{description*}\n\\item[upper] 13.8222212522248\n\\item[mean] 12.0545833333333\n\\item[lower] 10.2869454144418\n\\end{description*}\n",
            "text/markdown": "upper\n:   13.8222212522248mean\n:   12.0545833333333lower\n:   10.2869454144418\n\n",
            "text/html": [
              "<style>\n",
              ".dl-inline {width: auto; margin:0; padding: 0}\n",
              ".dl-inline>dt, .dl-inline>dd {float: none; width: auto; display: inline-block}\n",
              ".dl-inline>dt::after {content: \":\\0020\"; padding-right: .5ex}\n",
              ".dl-inline>dt:not(:first-of-type) {padding-left: .5ex}\n",
              "</style><dl class=dl-inline><dt>upper</dt><dd>13.8222212522248</dd><dt>mean</dt><dd>12.0545833333333</dd><dt>lower</dt><dd>10.2869454144418</dd></dl>\n"
            ]
          },
          "metadata": {
            "tags": []
          }
        }
      ]
    },
    {
      "cell_type": "markdown",
      "metadata": {
        "id": "qHMG5eP7sbDH"
      },
      "source": [
        "#### (c) Interpret the confidence interval."
      ]
    },
    {
      "cell_type": "markdown",
      "metadata": {
        "id": "EtAsgi0msbDI"
      },
      "source": [
        "From the results above we are 85% certain that the mean if a galaxy's distance from earth in Mega parsecs is between 10.29 and 13.82."
      ]
    },
    {
      "cell_type": "markdown",
      "metadata": {
        "id": "TjpNG871sbDI"
      },
      "source": [
        "## Problem #2\n",
        "\n",
        "#### (a) Use ${\\tt rbinom()}$ to generate $m = 500$ random numbers from a binomial distribution with $n = 50$ and $p = 0.3$. Store these values in $x$. Describe what $n$ and $p$ are, and state any assumptions needed for the binomial distribution to be an appropriate model."
      ]
    },
    {
      "cell_type": "code",
      "metadata": {
        "id": "zMzHXxTZsbDI"
      },
      "source": [
        "x <- rbinom(500,50,0.3)\n",
        "## n is the number of trials in a given experiment, and p is the \n",
        "#probability of success on each trial. the assumption we are making is that the outcomes of this experiment are BINARY!"
      ],
      "execution_count": null,
      "outputs": []
    },
    {
      "cell_type": "markdown",
      "metadata": {
        "id": "aEyND8BzsbDJ"
      },
      "source": [
        "#### (b) Print a density histogram of $x$. Describe why the distribution looks the way that it does (i.e., why do many values fall near 15, and very few/no values near 0 or 50?). Print the sample mean of $x$. Is it what you might expect? Print the sample standard deviation of $x$."
      ]
    },
    {
      "cell_type": "code",
      "metadata": {
        "colab": {
          "base_uri": "https://localhost:8080/",
          "height": 437
        },
        "id": "jHqoxZMwsbDK",
        "outputId": "a046d3ed-e306-41f5-9166-f609d7dedf7d"
      },
      "source": [
        "hist(x)"
      ],
      "execution_count": null,
      "outputs": [
        {
          "output_type": "display_data",
          "data": {
            "image/png": "[encoded data removed]",
            "text/plain": [
              "Plot with title “Histogram of x”"
            ]
          },
          "metadata": {
            "tags": [],
            "image/png": {
              "width": 420,
              "height": 420
            }
          }
        }
      ]
    },
    {
      "cell_type": "code",
      "metadata": {
        "colab": {
          "base_uri": "https://localhost:8080/",
          "height": 68
        },
        "id": "Yyh5r65x8DfT",
        "outputId": "e9fc6e0f-8306-4597-b23a-b0e180e36061"
      },
      "source": [
        "# considering the size of our sample, yes it is what i would expect, \n",
        "# as a binomial begins to take the shape of a normal when n is large\n",
        "print(mean(x))\n",
        "print(sd(x))\n",
        "var(x)"
      ],
      "execution_count": null,
      "outputs": [
        {
          "output_type": "stream",
          "text": [
            "[1] 15.228\n",
            "[1] 3.228135\n"
          ],
          "name": "stdout"
        },
        {
          "output_type": "display_data",
          "data": {
            "text/plain": [
              "[1] 10.42086"
            ],
            "text/latex": "10.4208577154309",
            "text/markdown": "10.4208577154309",
            "text/html": [
              "10.4208577154309"
            ]
          },
          "metadata": {
            "tags": []
          }
        }
      ]
    },
    {
      "cell_type": "markdown",
      "metadata": {
        "id": "8N8UuQFTsbDK"
      },
      "source": [
        "#### (c) Parts (a) and (b) suggest that the binomial distribution can be approximated by a normal distribution (when $np > 10$ and $np(1-p) > 10$, roughly). *Which* normal distribution (i.e., what should the mean and variance of that normal distribution be)? "
      ]
    },
    {
      "cell_type": "markdown",
      "metadata": {
        "id": "m-iSb15isbDL"
      },
      "source": [
        "This can be described as X ~ N(15,3.2) with a variance of 10.4"
      ]
    },
    {
      "cell_type": "markdown",
      "metadata": {
        "id": "2M9tNPE7sbDL"
      },
      "source": [
        "## Problem #3\n",
        "\n",
        "Suppose that $X_1,...,X_n \\overset{iid}{\\sim} Bernoulli(p)$. When $np > 10$ and $np(1-p) >10$, the following formula represents an approximate $(1-\\alpha)\\times 100\\%$ confidence interval for the population proportion/probability $p$:\n",
        "\n",
        "$$\\widehat{p} \\pm z_{\\alpha/2}\\sqrt{\\frac{\\widehat{p}(1-\\widehat{p})}{n}}.$$\n",
        "\n",
        "#### (a) Describe why we can use a normal $z$ interval (i.e., why we can use $z_{\\alpha/2}$) when the distribution of $\\widehat{p} = \\frac{\\sum^n_{i=1}X_i}{n}$ is, *strictly speaking*, not normal."
      ]
    },
    {
      "cell_type": "markdown",
      "metadata": {
        "id": "0i_lhTrhsbDL"
      },
      "source": [
        "By the Central Limit Theorem, as we begin to derive a parameter from certain samples, the set of all those parameters follow a shape of a normal probability distribtuion. When the parameter of interest is know at the population level, then it does not nevesaarily need to follow a normal distribution itself. BUT it's estimate (which we are deriving in the above equation) must follow a normal distribution as the sample size is large."
      ]
    },
    {
      "cell_type": "markdown",
      "metadata": {
        "id": "_tervRxYsbDM"
      },
      "source": [
        "#### (b) Let $n = 50$ and $p = 0.7$.  Simulate $m = 1,000$ samples of size $n$ from $Bernoulli(p)$. Now forget that you know $p$. Compute an $85\\%$ confidence interval for $p$ for each of the $m$ samples using the formula from (a). Print out the first interval, state whether it covers $p$, and interpret the interval."
      ]
    },
    {
      "cell_type": "code",
      "metadata": {
        "id": "uTtHGOWr_suT"
      },
      "source": [
        "library(Rlab)"
      ],
      "execution_count": 11,
      "outputs": []
    },
    {
      "cell_type": "code",
      "metadata": {
        "id": "NM8j-dPXsbDM"
      },
      "source": [
        "samp <- matrix(nrow=50,ncol=1000)\n",
        "for(i in 1:1000){\n",
        "  samp[,i] <- rbern(50,0.7)\n",
        "}\n",
        "intervals <- matrix(nrow=1000,ncol=2)\n",
        "for(i in 1:1000){\n",
        "  prob <- sum(samp[,i])/nrow(samp)\n",
        "  alpha <- .15/2\n",
        "  x <- samp[,i]\n",
        "  mu <- mean(x)\n",
        "  sd <- sd(x)\n",
        "  n <- nrow(samp)\n",
        "  z <- qnorm(alpha,mean = mu, sd = sd, lower.tail = FALSE)\n",
        "  vals <- vector(length = 2)\n",
        "  vals[1] <- prob+(z*sqrt((prob*(1-prob))/n))\n",
        "  vals[2] <- prob-(z*sqrt((prob*(1-prob))/n))\n",
        "  intervals[i,] <- vals\n",
        "}"
      ],
      "execution_count": 90,
      "outputs": []
    },
    {
      "cell_type": "markdown",
      "metadata": {
        "id": "FjTX3-doa-LJ"
      },
      "source": [
        "It does not contain .7! This ok though, as our CI is 85% which implies 150 rows will not contain .7 out of our 1000 CIs."
      ]
    },
    {
      "cell_type": "markdown",
      "metadata": {
        "id": "6xoSDOdksbDM"
      },
      "source": [
        "#### (c) Calculate an estimate of the coverage of the confidence interval using the simulation above. Is it close to 85%? (The Unit #0 Code might help here!)"
      ]
    },
    {
      "cell_type": "code",
      "metadata": {
        "collapsed": true,
        "colab": {
          "base_uri": "https://localhost:8080/",
          "height": 34
        },
        "id": "p52xyw0ksbDM",
        "outputId": "5686d01f-1499-4712-da82-feded050002b"
      },
      "source": [
        "ciEstimate <- rep(0,1000)\n",
        "for(i in 1:1000){\n",
        "  range <- intervals[i,]\n",
        "  if(.7 >= min(range) & .7 <= max(range)){\n",
        "    ciEstimate[i] <- 1\n",
        "  }\n",
        "}\n",
        "sum(ciEstimate)/length(ciEstimate)"
      ],
      "execution_count": 91,
      "outputs": [
        {
          "output_type": "display_data",
          "data": {
            "text/plain": [
              "[1] 0.855"
            ],
            "text/latex": "0.855",
            "text/markdown": "0.855",
            "text/html": [
              "0.855"
            ]
          },
          "metadata": {
            "tags": []
          }
        }
      ]
    },
    {
      "cell_type": "markdown",
      "metadata": {
        "id": "cgzGYYJ-mpEr"
      },
      "source": [
        "The estimate is right on the money! If we derive this multiple other ways we will get approximately .85 each time as well."
      ]
    },
    {
      "cell_type": "markdown",
      "metadata": {
        "id": "fPwYRyf7sbDM"
      },
      "source": [
        "\n",
        "## Problem #4\n",
        "\n",
        "We might be interested in computing confidence intervals for parameters other than a mean, $\\mu$, proportion, $p$, etc. For many of these parameters, standard statistical theory will not help. In this problem, we will compute a 95% confidence interval for the rate parameter of an exponential distribution. \n",
        "\n",
        "A theoretical model suggests that $X$, the time to breakdown of an insulating fluid between electrodes at a particular voltage, has an exponential distribution: $f(x; \\lambda) = \\lambda e^{-\\lambda x}$. A random sample of $n = 10$ breakdown times (minutes) is given here:\n",
        "\n",
        "$$\n",
        "41.53, 18.73, 2.99, 30.34, 12.33, 117.52, 73.02, 223.63, 4, 26.78.\n",
        "$$\n",
        "\n",
        "#### (a)  Construct a matrix of $B = 10,000$ columns, where each column is a sample of size $n = 10$ (sampled with replacement) from the above 10 numbers. (HINT: use the sample function in R.) \n"
      ]
    },
    {
      "cell_type": "code",
      "metadata": {
        "collapsed": true,
        "id": "pKbfWZE0sbDN",
        "colab": {
          "base_uri": "https://localhost:8080/",
          "height": 344
        },
        "outputId": "ec810c2b-dfc1-408a-e68a-e37e5e89cbdb"
      },
      "source": [
        "sample <- c(41.53, 18.73, 2.99, 30.34, 12.33, 117.52, 73.02, 223.63, 4, 26.78)\n",
        "mat <- matrix(nrow=10,ncol=10000)\n",
        "for(i in 1:10000){\n",
        "  mat[,i] <- sample(x = sample, size = 10, replace = TRUE)\n",
        "}\n",
        "mat"
      ],
      "execution_count": 104,
      "outputs": [
        {
          "output_type": "display_data",
          "data": {
            "text/plain": [
              "      [,1]   [,2]   [,3]   [,4]   [,5]   [,6]  [,7]   [,8]   [,9]   [,10] \n",
              " [1,]  12.33  30.34  41.53  12.33 117.52 12.33  30.34  26.78 223.63  41.53\n",
              " [2,] 223.63   4.00  73.02   2.99  26.78 30.34  12.33  18.73 117.52   2.99\n",
              " [3,]  41.53  12.33 223.63   4.00  26.78 26.78  73.02  26.78   4.00 223.63\n",
              " [4,]  73.02  30.34 117.52 223.63 117.52 73.02  73.02   2.99  30.34  41.53\n",
              " [5,]  12.33 117.52  30.34  73.02  26.78  4.00   4.00  30.34   2.99  41.53\n",
              " [6,]  12.33   4.00  18.73   4.00   2.99 30.34 223.63   2.99  73.02 223.63\n",
              " [7,] 223.63 223.63   4.00  41.53 117.52  4.00  73.02   4.00  73.02 117.52\n",
              " [8,]  26.78   2.99   2.99  73.02  73.02 30.34 117.52 223.63  18.73 117.52\n",
              " [9,]  12.33   4.00   2.99  73.02  73.02 30.34   4.00   2.99  41.53   4.00\n",
              "[10,]   2.99  30.34  73.02  30.34  12.33  4.00   4.00   2.99  12.33  73.02\n",
              "      [,11] [,12]  [,13]  [,14]  [,15]  [,16]  [,17] [,18]  [,19]  [,20] \n",
              " [1,] ⋯      30.34 223.63  30.34  41.53  30.34 73.02  30.34   2.99 117.52\n",
              " [2,] ⋯      41.53   4.00  26.78  18.73  73.02 18.73  30.34   2.99   4.00\n",
              " [3,] ⋯      18.73   4.00   2.99 223.63  73.02 12.33  12.33  26.78  12.33\n",
              " [4,] ⋯      41.53  30.34   2.99  18.73 223.63 18.73 117.52  12.33  18.73\n",
              " [5,] ⋯      26.78  41.53   4.00  73.02  26.78 30.34 117.52  73.02  73.02\n",
              " [6,] ⋯      18.73 223.63 223.63 117.52  73.02 12.33  73.02  30.34   2.99\n",
              " [7,] ⋯      30.34 117.52  30.34  41.53 117.52 41.53  41.53 117.52  18.73\n",
              " [8,] ⋯       2.99  26.78  30.34  26.78   2.99 26.78  26.78   2.99  18.73\n",
              " [9,] ⋯     223.63 117.52  18.73  41.53 117.52 30.34  12.33 117.52 117.52\n",
              "[10,] ⋯     117.52 117.52   2.99   4.00  73.02  4.00  26.78 223.63   2.99\n",
              "      [,21] \n",
              " [1,]   2.99\n",
              " [2,]  26.78\n",
              " [3,]   2.99\n",
              " [4,]  18.73\n",
              " [5,]  12.33\n",
              " [6,]  30.34\n",
              " [7,] 117.52\n",
              " [8,]  73.02\n",
              " [9,]   4.00\n",
              "[10,] 117.52"
            ],
            "text/latex": "A matrix: 10 × 10000 of type dbl\n\\begin{tabular}{lllllllllllllllllllll}\n\t  12.33 &  30.34 &  41.53 &  12.33 & 117.52 & 12.33 &  30.34 &  26.78 & 223.63 &  41.53 & ⋯ &  30.34 & 223.63 &  30.34 &  41.53 &  30.34 & 73.02 &  30.34 &   2.99 & 117.52 &   2.99\\\\\n\t 223.63 &   4.00 &  73.02 &   2.99 &  26.78 & 30.34 &  12.33 &  18.73 & 117.52 &   2.99 & ⋯ &  41.53 &   4.00 &  26.78 &  18.73 &  73.02 & 18.73 &  30.34 &   2.99 &   4.00 &  26.78\\\\\n\t  41.53 &  12.33 & 223.63 &   4.00 &  26.78 & 26.78 &  73.02 &  26.78 &   4.00 & 223.63 & ⋯ &  18.73 &   4.00 &   2.99 & 223.63 &  73.02 & 12.33 &  12.33 &  26.78 &  12.33 &   2.99\\\\\n\t  73.02 &  30.34 & 117.52 & 223.63 & 117.52 & 73.02 &  73.02 &   2.99 &  30.34 &  41.53 & ⋯ &  41.53 &  30.34 &   2.99 &  18.73 & 223.63 & 18.73 & 117.52 &  12.33 &  18.73 &  18.73\\\\\n\t  12.33 & 117.52 &  30.34 &  73.02 &  26.78 &  4.00 &   4.00 &  30.34 &   2.99 &  41.53 & ⋯ &  26.78 &  41.53 &   4.00 &  73.02 &  26.78 & 30.34 & 117.52 &  73.02 &  73.02 &  12.33\\\\\n\t  12.33 &   4.00 &  18.73 &   4.00 &   2.99 & 30.34 & 223.63 &   2.99 &  73.02 & 223.63 & ⋯ &  18.73 & 223.63 & 223.63 & 117.52 &  73.02 & 12.33 &  73.02 &  30.34 &   2.99 &  30.34\\\\\n\t 223.63 & 223.63 &   4.00 &  41.53 & 117.52 &  4.00 &  73.02 &   4.00 &  73.02 & 117.52 & ⋯ &  30.34 & 117.52 &  30.34 &  41.53 & 117.52 & 41.53 &  41.53 & 117.52 &  18.73 & 117.52\\\\\n\t  26.78 &   2.99 &   2.99 &  73.02 &  73.02 & 30.34 & 117.52 & 223.63 &  18.73 & 117.52 & ⋯ &   2.99 &  26.78 &  30.34 &  26.78 &   2.99 & 26.78 &  26.78 &   2.99 &  18.73 &  73.02\\\\\n\t  12.33 &   4.00 &   2.99 &  73.02 &  73.02 & 30.34 &   4.00 &   2.99 &  41.53 &   4.00 & ⋯ & 223.63 & 117.52 &  18.73 &  41.53 & 117.52 & 30.34 &  12.33 & 117.52 & 117.52 &   4.00\\\\\n\t   2.99 &  30.34 &  73.02 &  30.34 &  12.33 &  4.00 &   4.00 &   2.99 &  12.33 &  73.02 & ⋯ & 117.52 & 117.52 &   2.99 &   4.00 &  73.02 &  4.00 &  26.78 & 223.63 &   2.99 & 117.52\\\\\n\\end{tabular}\n",
            "text/markdown": "\nA matrix: 10 × 10000 of type dbl\n\n|  12.33 |  30.34 |  41.53 |  12.33 | 117.52 | 12.33 |  30.34 |  26.78 | 223.63 |  41.53 | ⋯ |  30.34 | 223.63 |  30.34 |  41.53 |  30.34 | 73.02 |  30.34 |   2.99 | 117.52 |   2.99 |\n| 223.63 |   4.00 |  73.02 |   2.99 |  26.78 | 30.34 |  12.33 |  18.73 | 117.52 |   2.99 | ⋯ |  41.53 |   4.00 |  26.78 |  18.73 |  73.02 | 18.73 |  30.34 |   2.99 |   4.00 |  26.78 |\n|  41.53 |  12.33 | 223.63 |   4.00 |  26.78 | 26.78 |  73.02 |  26.78 |   4.00 | 223.63 | ⋯ |  18.73 |   4.00 |   2.99 | 223.63 |  73.02 | 12.33 |  12.33 |  26.78 |  12.33 |   2.99 |\n|  73.02 |  30.34 | 117.52 | 223.63 | 117.52 | 73.02 |  73.02 |   2.99 |  30.34 |  41.53 | ⋯ |  41.53 |  30.34 |   2.99 |  18.73 | 223.63 | 18.73 | 117.52 |  12.33 |  18.73 |  18.73 |\n|  12.33 | 117.52 |  30.34 |  73.02 |  26.78 |  4.00 |   4.00 |  30.34 |   2.99 |  41.53 | ⋯ |  26.78 |  41.53 |   4.00 |  73.02 |  26.78 | 30.34 | 117.52 |  73.02 |  73.02 |  12.33 |\n|  12.33 |   4.00 |  18.73 |   4.00 |   2.99 | 30.34 | 223.63 |   2.99 |  73.02 | 223.63 | ⋯ |  18.73 | 223.63 | 223.63 | 117.52 |  73.02 | 12.33 |  73.02 |  30.34 |   2.99 |  30.34 |\n| 223.63 | 223.63 |   4.00 |  41.53 | 117.52 |  4.00 |  73.02 |   4.00 |  73.02 | 117.52 | ⋯ |  30.34 | 117.52 |  30.34 |  41.53 | 117.52 | 41.53 |  41.53 | 117.52 |  18.73 | 117.52 |\n|  26.78 |   2.99 |   2.99 |  73.02 |  73.02 | 30.34 | 117.52 | 223.63 |  18.73 | 117.52 | ⋯ |   2.99 |  26.78 |  30.34 |  26.78 |   2.99 | 26.78 |  26.78 |   2.99 |  18.73 |  73.02 |\n|  12.33 |   4.00 |   2.99 |  73.02 |  73.02 | 30.34 |   4.00 |   2.99 |  41.53 |   4.00 | ⋯ | 223.63 | 117.52 |  18.73 |  41.53 | 117.52 | 30.34 |  12.33 | 117.52 | 117.52 |   4.00 |\n|   2.99 |  30.34 |  73.02 |  30.34 |  12.33 |  4.00 |   4.00 |   2.99 |  12.33 |  73.02 | ⋯ | 117.52 | 117.52 |   2.99 |   4.00 |  73.02 |  4.00 |  26.78 | 223.63 |   2.99 | 117.52 |\n\n",
            "text/html": [
              "<table class=\"dataframe\">\n",
              "<caption>A matrix: 10 × 10000 of type dbl</caption>\n",
              "<tbody>\n",
              "\t<tr><td> 12.33</td><td> 30.34</td><td> 41.53</td><td> 12.33</td><td>117.52</td><td>12.33</td><td> 30.34</td><td> 26.78</td><td>223.63</td><td> 41.53</td><td>⋯</td><td> 30.34</td><td>223.63</td><td> 30.34</td><td> 41.53</td><td> 30.34</td><td>73.02</td><td> 30.34</td><td>  2.99</td><td>117.52</td><td>  2.99</td></tr>\n",
              "\t<tr><td>223.63</td><td>  4.00</td><td> 73.02</td><td>  2.99</td><td> 26.78</td><td>30.34</td><td> 12.33</td><td> 18.73</td><td>117.52</td><td>  2.99</td><td>⋯</td><td> 41.53</td><td>  4.00</td><td> 26.78</td><td> 18.73</td><td> 73.02</td><td>18.73</td><td> 30.34</td><td>  2.99</td><td>  4.00</td><td> 26.78</td></tr>\n",
              "\t<tr><td> 41.53</td><td> 12.33</td><td>223.63</td><td>  4.00</td><td> 26.78</td><td>26.78</td><td> 73.02</td><td> 26.78</td><td>  4.00</td><td>223.63</td><td>⋯</td><td> 18.73</td><td>  4.00</td><td>  2.99</td><td>223.63</td><td> 73.02</td><td>12.33</td><td> 12.33</td><td> 26.78</td><td> 12.33</td><td>  2.99</td></tr>\n",
              "\t<tr><td> 73.02</td><td> 30.34</td><td>117.52</td><td>223.63</td><td>117.52</td><td>73.02</td><td> 73.02</td><td>  2.99</td><td> 30.34</td><td> 41.53</td><td>⋯</td><td> 41.53</td><td> 30.34</td><td>  2.99</td><td> 18.73</td><td>223.63</td><td>18.73</td><td>117.52</td><td> 12.33</td><td> 18.73</td><td> 18.73</td></tr>\n",
              "\t<tr><td> 12.33</td><td>117.52</td><td> 30.34</td><td> 73.02</td><td> 26.78</td><td> 4.00</td><td>  4.00</td><td> 30.34</td><td>  2.99</td><td> 41.53</td><td>⋯</td><td> 26.78</td><td> 41.53</td><td>  4.00</td><td> 73.02</td><td> 26.78</td><td>30.34</td><td>117.52</td><td> 73.02</td><td> 73.02</td><td> 12.33</td></tr>\n",
              "\t<tr><td> 12.33</td><td>  4.00</td><td> 18.73</td><td>  4.00</td><td>  2.99</td><td>30.34</td><td>223.63</td><td>  2.99</td><td> 73.02</td><td>223.63</td><td>⋯</td><td> 18.73</td><td>223.63</td><td>223.63</td><td>117.52</td><td> 73.02</td><td>12.33</td><td> 73.02</td><td> 30.34</td><td>  2.99</td><td> 30.34</td></tr>\n",
              "\t<tr><td>223.63</td><td>223.63</td><td>  4.00</td><td> 41.53</td><td>117.52</td><td> 4.00</td><td> 73.02</td><td>  4.00</td><td> 73.02</td><td>117.52</td><td>⋯</td><td> 30.34</td><td>117.52</td><td> 30.34</td><td> 41.53</td><td>117.52</td><td>41.53</td><td> 41.53</td><td>117.52</td><td> 18.73</td><td>117.52</td></tr>\n",
              "\t<tr><td> 26.78</td><td>  2.99</td><td>  2.99</td><td> 73.02</td><td> 73.02</td><td>30.34</td><td>117.52</td><td>223.63</td><td> 18.73</td><td>117.52</td><td>⋯</td><td>  2.99</td><td> 26.78</td><td> 30.34</td><td> 26.78</td><td>  2.99</td><td>26.78</td><td> 26.78</td><td>  2.99</td><td> 18.73</td><td> 73.02</td></tr>\n",
              "\t<tr><td> 12.33</td><td>  4.00</td><td>  2.99</td><td> 73.02</td><td> 73.02</td><td>30.34</td><td>  4.00</td><td>  2.99</td><td> 41.53</td><td>  4.00</td><td>⋯</td><td>223.63</td><td>117.52</td><td> 18.73</td><td> 41.53</td><td>117.52</td><td>30.34</td><td> 12.33</td><td>117.52</td><td>117.52</td><td>  4.00</td></tr>\n",
              "\t<tr><td>  2.99</td><td> 30.34</td><td> 73.02</td><td> 30.34</td><td> 12.33</td><td> 4.00</td><td>  4.00</td><td>  2.99</td><td> 12.33</td><td> 73.02</td><td>⋯</td><td>117.52</td><td>117.52</td><td>  2.99</td><td>  4.00</td><td> 73.02</td><td> 4.00</td><td> 26.78</td><td>223.63</td><td>  2.99</td><td>117.52</td></tr>\n",
              "</tbody>\n",
              "</table>\n"
            ]
          },
          "metadata": {
            "tags": []
          }
        }
      ]
    },
    {
      "cell_type": "markdown",
      "metadata": {
        "id": "Nukr8iflsbDN"
      },
      "source": [
        "#### (b) From each of the $B$ samples, compute the maximum likelihood estimate of $\\lambda$. Call this estimator $\\widehat{\\lambda}$.\n"
      ]
    },
    {
      "cell_type": "code",
      "metadata": {
        "collapsed": true,
        "id": "TbVKqmnpsbDN"
      },
      "source": [
        "lambdaHat <- rep(0,10000)\n",
        "for(i in 1:10000){\n",
        "  lambdaHat[i] <- 1/mean(mat[,i])\n",
        "}"
      ],
      "execution_count": 105,
      "outputs": []
    },
    {
      "cell_type": "markdown",
      "metadata": {
        "id": "uAlqWPKcsbDN"
      },
      "source": [
        "#### (c) You now have a sample of size $B$ from the *distribution* of the estimator $\\widehat{\\lambda}$. Construct a histogram and comment on the distribution.\n"
      ]
    },
    {
      "cell_type": "code",
      "metadata": {
        "id": "oNohUOu2sbDN",
        "colab": {
          "base_uri": "https://localhost:8080/",
          "height": 437
        },
        "outputId": "6d00c02c-e8dc-4e6f-afec-8c45e93af682"
      },
      "source": [
        "hist(lambdaHat)"
      ],
      "execution_count": 106,
      "outputs": [
        {
          "output_type": "display_data",
          "data": {
            "image/png": "[encoded data removed]",
            "text/plain": [
              "Plot with title “Histogram of lambdaHat”"
            ]
          },
          "metadata": {
            "tags": [],
            "image/png": {
              "width": 420,
              "height": 420
            }
          }
        }
      ]
    },
    {
      "cell_type": "markdown",
      "metadata": {
        "id": "TqjWGlR5sbDO"
      },
      "source": [
        ""
      ]
    },
    {
      "cell_type": "markdown",
      "metadata": {
        "id": "r1QOUEhjsbDO"
      },
      "source": [
        "#### (d) Use the quantile function in R to find the 2.5 percentile and the 97.5 percentile. This is a *percentile bootstrap confidence interval* for $\\lambda$.\n"
      ]
    },
    {
      "cell_type": "code",
      "metadata": {
        "id": "sSW83-pAsbDO",
        "colab": {
          "base_uri": "https://localhost:8080/",
          "height": 34
        },
        "outputId": "f5b3d2c4-fb54-430b-b682-aa23ac6f5a6d"
      },
      "source": [
        "boot <- quantile(lambdaHat, probs = c(.025,.975))\n",
        "boot"
      ],
      "execution_count": 108,
      "outputs": [
        {
          "output_type": "display_data",
          "data": {
            "text/plain": [
              "       2.5%       97.5% \n",
              "0.009993257 0.048659081 "
            ],
            "text/latex": "\\begin{description*}\n\\item[2.5\\textbackslash{}\\%] 0.00999325713443609\n\\item[97.5\\textbackslash{}\\%] 0.0486590807240012\n\\end{description*}\n",
            "text/markdown": "2.5%\n:   0.0099932571344360997.5%\n:   0.0486590807240012\n\n",
            "text/html": [
              "<style>\n",
              ".dl-inline {width: auto; margin:0; padding: 0}\n",
              ".dl-inline>dt, .dl-inline>dd {float: none; width: auto; display: inline-block}\n",
              ".dl-inline>dt::after {content: \":\\0020\"; padding-right: .5ex}\n",
              ".dl-inline>dt:not(:first-of-type) {padding-left: .5ex}\n",
              "</style><dl class=dl-inline><dt>2.5%</dt><dd>0.00999325713443609</dd><dt>97.5%</dt><dd>0.0486590807240012</dd></dl>\n"
            ]
          },
          "metadata": {
            "tags": []
          }
        }
      ]
    }
  ]
}